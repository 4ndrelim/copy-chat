{
 "cells": [
  {
   "cell_type": "code",
   "execution_count": 1,
   "id": "63952d85-76eb-475a-af72-9eae75aca657",
   "metadata": {},
   "outputs": [],
   "source": [
    "import pandas as pd"
   ]
  },
  {
   "cell_type": "code",
   "execution_count": 2,
   "id": "241bbe54-1d72-44b2-877a-2b5d4d0e36e8",
   "metadata": {},
   "outputs": [],
   "source": [
    "tsad_file_path = \"train_vanilla.csv\" \n",
    "tsad_df = pd.read_csv(tsad_file_path, encoding=\"latin1\")"
   ]
  },
  {
   "cell_type": "code",
   "execution_count": 3,
   "id": "2e911ad6-2f0c-4797-b1ad-c1a92fbd21a0",
   "metadata": {},
   "outputs": [],
   "source": [
    "aug_file_path = \"additional_ds.csv\" \n",
    "aug_df = pd.read_csv(aug_file_path, encoding=\"latin1\")"
   ]
  },
  {
   "cell_type": "markdown",
   "id": "cbdaca1c-553f-4092-b09e-2af267261ebc",
   "metadata": {},
   "source": [
    "# Save train_augment"
   ]
  },
  {
   "cell_type": "code",
   "execution_count": 4,
   "id": "d46b696a-0cd3-449e-9b04-a8cbbb6eef04",
   "metadata": {},
   "outputs": [],
   "source": [
    "combined_df = pd.concat([tsad_df, aug_df], ignore_index=True)"
   ]
  },
  {
   "cell_type": "code",
   "execution_count": 5,
   "id": "9136a685-eb7a-414e-a486-fae5cacf2074",
   "metadata": {},
   "outputs": [
    {
     "name": "stdout",
     "output_type": "stream",
     "text": [
      "Number of duplicate text values: 0\n"
     ]
    }
   ],
   "source": [
    "# Count duplicate text values\n",
    "duplicate_text_count = combined_df['text'].duplicated().sum()\n",
    "print(f\"Number of duplicate text values: {duplicate_text_count}\")"
   ]
  },
  {
   "cell_type": "code",
   "execution_count": 6,
   "id": "fca83129-4124-427e-a92c-de0608233000",
   "metadata": {},
   "outputs": [],
   "source": [
    "combined_df.to_csv(\"train_augment.csv\", encoding=\"latin1\", index=False)"
   ]
  },
  {
   "cell_type": "code",
   "execution_count": 7,
   "id": "c41fd609-3ecd-4ab4-87a8-5e8b739a6dca",
   "metadata": {},
   "outputs": [],
   "source": [
    "combined_df['text'] = combined_df['text'] + \"\\nSentiment: <model_output>\""
   ]
  },
  {
   "cell_type": "code",
   "execution_count": 8,
   "id": "0fff136b-d4c7-4e7e-807c-a5c2e003ceb6",
   "metadata": {},
   "outputs": [],
   "source": [
    "combined_df = combined_df.rename(columns={\"text\": \"user_prompt\"})"
   ]
  },
  {
   "cell_type": "code",
   "execution_count": 9,
   "id": "ebfafc55-36c8-4e99-a1e2-2525ca6ab41c",
   "metadata": {},
   "outputs": [],
   "source": [
    "system_prompt_text = \"You are an expert at analyzing tweets sentiment, classifying into one of 3 categories - 'positive', 'neutral', 'negative', and identify the part of the tweet that made you think so.\\n\\nPlease return in the following format.\\nReason: {reason}\\nSentiment: {sentiment}.\"\n",
    "combined_df['system_prompt'] = system_prompt_text"
   ]
  },
  {
   "cell_type": "code",
   "execution_count": 10,
   "id": "29f08504-ddec-4fc1-b4cc-ba3d743acc3e",
   "metadata": {},
   "outputs": [
    {
     "data": {
      "text/html": [
       "<div>\n",
       "<style scoped>\n",
       "    .dataframe tbody tr th:only-of-type {\n",
       "        vertical-align: middle;\n",
       "    }\n",
       "\n",
       "    .dataframe tbody tr th {\n",
       "        vertical-align: top;\n",
       "    }\n",
       "\n",
       "    .dataframe thead th {\n",
       "        text-align: right;\n",
       "    }\n",
       "</style>\n",
       "<table border=\"1\" class=\"dataframe\">\n",
       "  <thead>\n",
       "    <tr style=\"text-align: right;\">\n",
       "      <th></th>\n",
       "      <th>user_prompt</th>\n",
       "      <th>sentiment</th>\n",
       "      <th>system_prompt</th>\n",
       "    </tr>\n",
       "  </thead>\n",
       "  <tbody>\n",
       "    <tr>\n",
       "      <th>0</th>\n",
       "      <td>I`d have responded, if I were going\\nSentimen...</td>\n",
       "      <td>neutral</td>\n",
       "      <td>You are an expert at analyzing tweets sentimen...</td>\n",
       "    </tr>\n",
       "    <tr>\n",
       "      <th>1</th>\n",
       "      <td>Sooo SAD I will miss you here in San Diego!!!...</td>\n",
       "      <td>negative</td>\n",
       "      <td>You are an expert at analyzing tweets sentimen...</td>\n",
       "    </tr>\n",
       "    <tr>\n",
       "      <th>2</th>\n",
       "      <td>my boss is bullying me...\\nSentiment: &lt;model_o...</td>\n",
       "      <td>negative</td>\n",
       "      <td>You are an expert at analyzing tweets sentimen...</td>\n",
       "    </tr>\n",
       "    <tr>\n",
       "      <th>3</th>\n",
       "      <td>what interview! leave me alone\\nSentiment: &lt;m...</td>\n",
       "      <td>negative</td>\n",
       "      <td>You are an expert at analyzing tweets sentimen...</td>\n",
       "    </tr>\n",
       "    <tr>\n",
       "      <th>4</th>\n",
       "      <td>Sons of ****, why couldn`t they put them on t...</td>\n",
       "      <td>negative</td>\n",
       "      <td>You are an expert at analyzing tweets sentimen...</td>\n",
       "    </tr>\n",
       "  </tbody>\n",
       "</table>\n",
       "</div>"
      ],
      "text/plain": [
       "                                         user_prompt sentiment  \\\n",
       "0   I`d have responded, if I were going\\nSentimen...   neutral   \n",
       "1   Sooo SAD I will miss you here in San Diego!!!...  negative   \n",
       "2  my boss is bullying me...\\nSentiment: <model_o...  negative   \n",
       "3   what interview! leave me alone\\nSentiment: <m...  negative   \n",
       "4   Sons of ****, why couldn`t they put them on t...  negative   \n",
       "\n",
       "                                       system_prompt  \n",
       "0  You are an expert at analyzing tweets sentimen...  \n",
       "1  You are an expert at analyzing tweets sentimen...  \n",
       "2  You are an expert at analyzing tweets sentimen...  \n",
       "3  You are an expert at analyzing tweets sentimen...  \n",
       "4  You are an expert at analyzing tweets sentimen...  "
      ]
     },
     "execution_count": 10,
     "metadata": {},
     "output_type": "execute_result"
    }
   ],
   "source": [
    "combined_df.head()"
   ]
  },
  {
   "cell_type": "code",
   "execution_count": 11,
   "id": "9a71c34c-6253-49cf-8cf9-ff1919d66e58",
   "metadata": {},
   "outputs": [],
   "source": [
    "combined_df.to_json(\"train_augment.jsonl\", orient=\"records\", lines=True, force_ascii=False)"
   ]
  },
  {
   "cell_type": "markdown",
   "id": "de94c25c-a9bd-4b15-ab49-21b59990faff",
   "metadata": {},
   "source": [
    "# Save train_augment_clean"
   ]
  },
  {
   "cell_type": "code",
   "execution_count": 12,
   "id": "295718c5-5ff2-485f-a526-8d80e331df57",
   "metadata": {},
   "outputs": [],
   "source": [
    "cleaned_file_path = \"train_clean.csv\"\n",
    "cleaned_df = pd.read_csv(cleaned_file_path, encoding=\"latin1\")"
   ]
  },
  {
   "cell_type": "code",
   "execution_count": 13,
   "id": "777f908b-7a9e-4ad3-8acb-990ed69dbae9",
   "metadata": {},
   "outputs": [],
   "source": [
    "combined_df_1 = pd.concat([cleaned_df, aug_df], ignore_index=True)"
   ]
  },
  {
   "cell_type": "code",
   "execution_count": 14,
   "id": "10422ceb-eadb-4405-bfd1-5bd9326442c8",
   "metadata": {},
   "outputs": [
    {
     "name": "stdout",
     "output_type": "stream",
     "text": [
      "Number of duplicate text values: 0\n"
     ]
    }
   ],
   "source": [
    "# Count duplicate text values\n",
    "duplicate_text_count = combined_df_1['text'].duplicated().sum()\n",
    "print(f\"Number of duplicate text values: {duplicate_text_count}\")"
   ]
  },
  {
   "cell_type": "code",
   "execution_count": 15,
   "id": "a7d8ca79-7d0e-4415-8306-b70ff4f06297",
   "metadata": {},
   "outputs": [],
   "source": [
    "combined_df_1.to_csv(\"train_augment_clean.csv\", encoding=\"latin1\", index=False)"
   ]
  },
  {
   "cell_type": "code",
   "execution_count": 16,
   "id": "6e491d27-b882-4575-9e59-19aba5635096",
   "metadata": {},
   "outputs": [],
   "source": [
    "combined_df_1['text'] = combined_df_1['text'] + \"\\nSentiment: <model_output>\""
   ]
  },
  {
   "cell_type": "code",
   "execution_count": 17,
   "id": "b53c91f7-0652-48b1-9f7a-0054ca2180f4",
   "metadata": {},
   "outputs": [],
   "source": [
    "combined_df_1 = combined_df_1.rename(columns={\"text\": \"user_prompt\"})"
   ]
  },
  {
   "cell_type": "code",
   "execution_count": 18,
   "id": "f3c879bf-8b20-44c3-bce7-ff6b49306a15",
   "metadata": {},
   "outputs": [],
   "source": [
    "combined_df_1['system_prompt'] = system_prompt_text"
   ]
  },
  {
   "cell_type": "code",
   "execution_count": 19,
   "id": "ffc863e1-4be9-43ce-a5bd-a6387c6422b4",
   "metadata": {},
   "outputs": [],
   "source": [
    "combined_df_1.to_json(\"train_augment_clean.jsonl\", orient=\"records\", lines=True, force_ascii=False)"
   ]
  },
  {
   "cell_type": "markdown",
   "id": "fe7654b6-ffb9-4bb7-9d6b-17880f84b7a3",
   "metadata": {},
   "source": [
    "# Save train_vanilla"
   ]
  },
  {
   "cell_type": "code",
   "execution_count": 20,
   "id": "559fa538-13de-4914-b090-14c9d45a1df9",
   "metadata": {},
   "outputs": [],
   "source": [
    "tsad_df['text'] = tsad_df['text'] + \"\\nSentiment: <model_output>\""
   ]
  },
  {
   "cell_type": "code",
   "execution_count": 21,
   "id": "ef613686-fe55-4f53-93d9-c45f8eaa9be8",
   "metadata": {},
   "outputs": [],
   "source": [
    "tsad_df = tsad_df.rename(columns={\"text\": \"user_prompt\"})"
   ]
  },
  {
   "cell_type": "code",
   "execution_count": 22,
   "id": "d851b8a2-b665-4cb1-8fc6-a1923538b3f5",
   "metadata": {},
   "outputs": [],
   "source": [
    "tsad_df['system_prompt'] = system_prompt_text"
   ]
  },
  {
   "cell_type": "code",
   "execution_count": 23,
   "id": "f71386df-89ad-439b-b016-30a643047f94",
   "metadata": {},
   "outputs": [],
   "source": [
    "tsad_df.to_json(\"train_vanilla.jsonl\", orient=\"records\", lines=True, force_ascii=False)"
   ]
  },
  {
   "cell_type": "markdown",
   "id": "ec2a0d7c-aa0c-4963-86fa-034c2d6de3b0",
   "metadata": {},
   "source": [
    "# Sentiment breakdown"
   ]
  },
  {
   "cell_type": "code",
   "execution_count": 24,
   "id": "26feccec-e5a7-4a6b-8f51-bd996bdce344",
   "metadata": {},
   "outputs": [
    {
     "data": {
      "text/plain": [
       "sentiment\n",
       "neutral     11117\n",
       "positive     8582\n",
       "negative     7781\n",
       "Name: count, dtype: int64"
      ]
     },
     "execution_count": 24,
     "metadata": {},
     "output_type": "execute_result"
    }
   ],
   "source": [
    "tsad_df['sentiment'].value_counts()"
   ]
  },
  {
   "cell_type": "code",
   "execution_count": 25,
   "id": "f97bb9ab-ed83-4c13-8993-08514a01c3dd",
   "metadata": {},
   "outputs": [
    {
     "data": {
      "text/plain": [
       "sentiment\n",
       "neutral     16667\n",
       "negative    16667\n",
       "positive    16667\n",
       "Name: count, dtype: int64"
      ]
     },
     "execution_count": 25,
     "metadata": {},
     "output_type": "execute_result"
    }
   ],
   "source": [
    "combined_df['sentiment'].value_counts()"
   ]
  },
  {
   "cell_type": "code",
   "execution_count": 26,
   "id": "17e9ca95-b419-4dbe-9af3-5686c264d12e",
   "metadata": {},
   "outputs": [
    {
     "data": {
      "text/plain": [
       "sentiment\n",
       "positive    19210\n",
       "negative    17953\n",
       "neutral     12838\n",
       "Name: count, dtype: int64"
      ]
     },
     "execution_count": 26,
     "metadata": {},
     "output_type": "execute_result"
    }
   ],
   "source": [
    "combined_df_1['sentiment'].value_counts()"
   ]
  },
  {
   "cell_type": "code",
   "execution_count": null,
   "id": "ee660f06-872c-4224-83db-a13d5b18ba38",
   "metadata": {},
   "outputs": [],
   "source": []
  },
  {
   "cell_type": "code",
   "execution_count": 27,
   "id": "84eee680-ecc1-4a50-b019-64797e97da02",
   "metadata": {},
   "outputs": [
    {
     "data": {
      "text/plain": [
       "0"
      ]
     },
     "execution_count": 27,
     "metadata": {},
     "output_type": "execute_result"
    }
   ],
   "source": [
    "tsad_df['user_prompt'].duplicated().sum()"
   ]
  },
  {
   "cell_type": "code",
   "execution_count": 28,
   "id": "c74e4e75-1c8d-429f-b866-04f5afbe834a",
   "metadata": {},
   "outputs": [
    {
     "data": {
      "text/plain": [
       "0"
      ]
     },
     "execution_count": 28,
     "metadata": {},
     "output_type": "execute_result"
    }
   ],
   "source": [
    "combined_df['user_prompt'].duplicated().sum()"
   ]
  },
  {
   "cell_type": "code",
   "execution_count": 29,
   "id": "c1acdbc3-1761-46c6-ac85-8617bdd7f73e",
   "metadata": {},
   "outputs": [
    {
     "data": {
      "text/plain": [
       "0"
      ]
     },
     "execution_count": 29,
     "metadata": {},
     "output_type": "execute_result"
    }
   ],
   "source": [
    "combined_df_1['user_prompt'].duplicated().sum()"
   ]
  },
  {
   "cell_type": "code",
   "execution_count": null,
   "id": "a8f61cc4-7240-48e3-8b74-49e6f6f31e8e",
   "metadata": {},
   "outputs": [],
   "source": []
  }
 ],
 "metadata": {
  "kernelspec": {
   "display_name": "cs4248",
   "language": "python",
   "name": "cs4248"
  },
  "language_info": {
   "codemirror_mode": {
    "name": "ipython",
    "version": 3
   },
   "file_extension": ".py",
   "mimetype": "text/x-python",
   "name": "python",
   "nbconvert_exporter": "python",
   "pygments_lexer": "ipython3",
   "version": "3.11.11"
  }
 },
 "nbformat": 4,
 "nbformat_minor": 5
}
